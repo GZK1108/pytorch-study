{
 "cells": [
  {
   "cell_type": "code",
   "execution_count": 2,
   "id": "initial_id",
   "metadata": {
    "collapsed": true,
    "ExecuteTime": {
     "end_time": "2023-11-30T07:29:57.992354700Z",
     "start_time": "2023-11-30T07:29:57.961063900Z"
    }
   },
   "outputs": [],
   "source": [
    "from __future__ import print_function\n",
    "import torch"
   ]
  },
  {
   "cell_type": "markdown",
   "source": [
    "## 创建张量"
   ],
   "metadata": {
    "collapsed": false
   },
   "id": "4624a82b46533cfb"
  },
  {
   "cell_type": "code",
   "execution_count": 3,
   "outputs": [
    {
     "name": "stdout",
     "output_type": "stream",
     "text": [
      "tensor([[6.3550e-22, 1.5498e-42, 0.0000e+00],\n",
      "        [0.0000e+00, 0.0000e+00, 0.0000e+00],\n",
      "        [0.0000e+00, 0.0000e+00, 0.0000e+00],\n",
      "        [0.0000e+00, 0.0000e+00, 0.0000e+00],\n",
      "        [0.0000e+00, 0.0000e+00, 0.0000e+00]])\n"
     ]
    }
   ],
   "source": [
    "# 创建一个没有初始化的矩阵\n",
    "x = torch.empty(5, 3)\n",
    "print(x)"
   ],
   "metadata": {
    "collapsed": false,
    "ExecuteTime": {
     "end_time": "2023-11-30T07:30:00.329113300Z",
     "start_time": "2023-11-30T07:30:00.266628100Z"
    }
   },
   "id": "7c9f9f94eb343443"
  },
  {
   "cell_type": "code",
   "execution_count": 5,
   "outputs": [
    {
     "name": "stdout",
     "output_type": "stream",
     "text": [
      "tensor([[0.8842, 0.7095, 0.3854],\n",
      "        [0.7909, 0.4154, 0.4836],\n",
      "        [0.2167, 0.1464, 0.6554],\n",
      "        [0.8275, 0.1238, 0.2904],\n",
      "        [0.6208, 0.2103, 0.8110]])\n"
     ]
    }
   ],
   "source": [
    "# 创建一个随机初始化的矩阵\n",
    "x = torch.rand(5, 3)\n",
    "print(x)"
   ],
   "metadata": {
    "collapsed": false,
    "ExecuteTime": {
     "end_time": "2023-11-30T07:30:50.845547200Z",
     "start_time": "2023-11-30T07:30:50.814263700Z"
    }
   },
   "id": "fe9672b2c7d945b6"
  },
  {
   "cell_type": "code",
   "execution_count": 6,
   "outputs": [
    {
     "name": "stdout",
     "output_type": "stream",
     "text": [
      "tensor([[0, 0, 0],\n",
      "        [0, 0, 0],\n",
      "        [0, 0, 0],\n",
      "        [0, 0, 0],\n",
      "        [0, 0, 0]])\n"
     ]
    }
   ],
   "source": [
    "# 创建一个填充0且数据类型为long的矩阵\n",
    "x = torch.zeros(5, 3, dtype=torch.long)\n",
    "print(x)"
   ],
   "metadata": {
    "collapsed": false,
    "ExecuteTime": {
     "end_time": "2023-11-30T07:34:23.117718200Z",
     "start_time": "2023-11-30T07:34:23.086470700Z"
    }
   },
   "id": "8cfb80ece8e558f6"
  },
  {
   "cell_type": "code",
   "execution_count": 7,
   "outputs": [
    {
     "name": "stdout",
     "output_type": "stream",
     "text": [
      "tensor([5.5000, 3.0000])\n"
     ]
    }
   ],
   "source": [
    "# 直接从数据构造张量\n",
    "x = torch.tensor([5.5, 3])\n",
    "print(x)"
   ],
   "metadata": {
    "collapsed": false,
    "ExecuteTime": {
     "end_time": "2023-11-30T07:34:44.674040100Z",
     "start_time": "2023-11-30T07:34:44.642799500Z"
    }
   },
   "id": "4bd9c16adb427ad4"
  },
  {
   "cell_type": "code",
   "execution_count": 8,
   "outputs": [
    {
     "name": "stdout",
     "output_type": "stream",
     "text": [
      "tensor([[1., 1., 1.],\n",
      "        [1., 1., 1.],\n",
      "        [1., 1., 1.],\n",
      "        [1., 1., 1.],\n",
      "        [1., 1., 1.]], dtype=torch.float64)\n",
      "tensor([[ 0.1713,  0.6240,  0.2867],\n",
      "        [ 0.6044,  1.6001, -2.0201],\n",
      "        [ 0.2541,  1.0586,  2.1091],\n",
      "        [-0.5638,  0.0644,  1.5197],\n",
      "        [ 0.3798,  0.0080,  2.2716]])\n"
     ]
    }
   ],
   "source": [
    "# 根据已有的张量创建张量\n",
    "x = x.new_ones(5, 3, dtype=torch.double)      # new_* methods take in sizes\n",
    "print(x)\n",
    "x = torch.randn_like(x, dtype=torch.float)    # 重载 dtype!\n",
    "print(x)                                      # 结果size一致"
   ],
   "metadata": {
    "collapsed": false,
    "ExecuteTime": {
     "end_time": "2023-11-30T07:35:25.365022100Z",
     "start_time": "2023-11-30T07:35:25.286873Z"
    }
   },
   "id": "c25edd997945810c"
  },
  {
   "cell_type": "code",
   "execution_count": 9,
   "outputs": [
    {
     "name": "stdout",
     "output_type": "stream",
     "text": [
      "torch.Size([5, 3])\n"
     ]
    }
   ],
   "source": [
    "# 获取张量的形状\n",
    "print(x.size())"
   ],
   "metadata": {
    "collapsed": false,
    "ExecuteTime": {
     "end_time": "2023-11-30T07:36:23.081044700Z",
     "start_time": "2023-11-30T07:36:23.028447700Z"
    }
   },
   "id": "a6e7bf6f11a09ebe"
  },
  {
   "cell_type": "markdown",
   "source": [
    "## 运算"
   ],
   "metadata": {
    "collapsed": false
   },
   "id": "c0eb5adfd5a2b03a"
  },
  {
   "cell_type": "code",
   "execution_count": 10,
   "outputs": [
    {
     "name": "stdout",
     "output_type": "stream",
     "text": [
      "tensor([[ 0.5952,  1.3245,  1.0296],\n",
      "        [ 0.8488,  1.9436, -1.0340],\n",
      "        [ 0.5949,  1.5006,  2.3448],\n",
      "        [-0.4855,  0.9811,  1.5879],\n",
      "        [ 1.1625,  1.0050,  2.9213]])\n"
     ]
    }
   ],
   "source": [
    "# 加法\n",
    "y = torch.rand(5, 3)\n",
    "print(x + y)"
   ],
   "metadata": {
    "collapsed": false,
    "ExecuteTime": {
     "end_time": "2023-11-30T07:37:31.829951100Z",
     "start_time": "2023-11-30T07:37:31.802279800Z"
    }
   },
   "id": "83813e82996685"
  },
  {
   "cell_type": "code",
   "execution_count": 11,
   "outputs": [
    {
     "name": "stdout",
     "output_type": "stream",
     "text": [
      "tensor([[ 0.5952,  1.3245,  1.0296],\n",
      "        [ 0.8488,  1.9436, -1.0340],\n",
      "        [ 0.5949,  1.5006,  2.3448],\n",
      "        [-0.4855,  0.9811,  1.5879],\n",
      "        [ 1.1625,  1.0050,  2.9213]])\n"
     ]
    }
   ],
   "source": [
    "# 加法2\n",
    "print(torch.add(x, y))"
   ],
   "metadata": {
    "collapsed": false,
    "ExecuteTime": {
     "end_time": "2023-11-30T07:37:55.015353800Z",
     "start_time": "2023-11-30T07:37:54.982627300Z"
    }
   },
   "id": "1dcac95a84607d74"
  },
  {
   "cell_type": "code",
   "execution_count": 12,
   "outputs": [
    {
     "name": "stdout",
     "output_type": "stream",
     "text": [
      "tensor([[ 0.5952,  1.3245,  1.0296],\n",
      "        [ 0.8488,  1.9436, -1.0340],\n",
      "        [ 0.5949,  1.5006,  2.3448],\n",
      "        [-0.4855,  0.9811,  1.5879],\n",
      "        [ 1.1625,  1.0050,  2.9213]])\n"
     ]
    }
   ],
   "source": [
    "# 加法：提供一个输出张量作为参数\n",
    "result = torch.empty(5, 3)\n",
    "torch.add(x, y, out=result)\n",
    "print(result)"
   ],
   "metadata": {
    "collapsed": false,
    "ExecuteTime": {
     "end_time": "2023-11-30T07:38:25.720613600Z",
     "start_time": "2023-11-30T07:38:25.698403100Z"
    }
   },
   "id": "504a390d6643bea8"
  },
  {
   "cell_type": "code",
   "execution_count": 16,
   "outputs": [
    {
     "name": "stdout",
     "output_type": "stream",
     "text": [
      "tensor([[ 0.5952,  1.3245,  1.0296],\n",
      "        [ 0.8488,  1.9436, -1.0340],\n",
      "        [ 0.5949,  1.5006,  2.3448],\n",
      "        [-0.4855,  0.9811,  1.5879],\n",
      "        [ 1.1625,  1.0050,  2.9213]])\n"
     ]
    }
   ],
   "source": [
    "# 加法：原位/原地操作（in-place）\n",
    "# adds x to y\n",
    "y.add_(x)\n",
    "print(y)"
   ],
   "metadata": {
    "collapsed": false,
    "ExecuteTime": {
     "end_time": "2023-11-30T07:39:36.272932900Z",
     "start_time": "2023-11-30T07:39:36.223710600Z"
    }
   },
   "id": "d1c6fc3718965f77"
  },
  {
   "cell_type": "markdown",
   "source": [
    "注意：\n",
    "\n",
    "任何一个in-place改变张量的操作后面都固定一个_。例如x.copy_(y)、x.t_()将更改x"
   ],
   "metadata": {
    "collapsed": false
   },
   "id": "1267623414bd12c6"
  },
  {
   "cell_type": "code",
   "execution_count": 17,
   "outputs": [
    {
     "name": "stdout",
     "output_type": "stream",
     "text": [
      "torch.Size([4, 4]) torch.Size([16]) torch.Size([2, 8])\n"
     ]
    }
   ],
   "source": [
    "# 改变张量的大小：如果你想改变一个张量的大小或者形状，你可以使用torch.view\n",
    "x = torch.randn(4, 4)\n",
    "y = x.view(16)\n",
    "z = x.view(-1, 8)  # -1所指的维度可以根据其他维度的值推出来\n",
    "print(x.size(), y.size(), z.size())"
   ],
   "metadata": {
    "collapsed": false,
    "ExecuteTime": {
     "end_time": "2023-11-30T07:41:00.045222800Z",
     "start_time": "2023-11-30T07:41:00.026165Z"
    }
   },
   "id": "4585908cedced5e2"
  },
  {
   "cell_type": "code",
   "execution_count": 24,
   "outputs": [
    {
     "name": "stdout",
     "output_type": "stream",
     "text": [
      "tensor([0.2072])\n",
      "0.20720399916172028\n"
     ]
    }
   ],
   "source": [
    "# 如果你有一个元素tensor，使用.item()来获得这个value\n",
    "x = torch.randn(1)\n",
    "print(x)\n",
    "print(x.item())"
   ],
   "metadata": {
    "collapsed": false,
    "ExecuteTime": {
     "end_time": "2023-11-30T07:56:10.879576400Z",
     "start_time": "2023-11-30T07:56:10.863277600Z"
    }
   },
   "id": "3ac83a8dd8594ed3"
  },
  {
   "cell_type": "markdown",
   "source": [
    "## NumPy桥"
   ],
   "metadata": {
    "collapsed": false
   },
   "id": "7cd74b6043684b53"
  },
  {
   "cell_type": "markdown",
   "source": [
    "将一个Torch张量转换为一个NumPy数组是轻而易举的事情，反之亦然。\n",
    "Torch张量和NumPy数组将共享它们的底层内存位置，因此当一个改变时,另外也会改变。"
   ],
   "metadata": {
    "collapsed": false
   },
   "id": "18159b95691522a2"
  },
  {
   "cell_type": "code",
   "execution_count": 25,
   "outputs": [
    {
     "name": "stdout",
     "output_type": "stream",
     "text": [
      "tensor([1., 1., 1., 1., 1.])\n",
      "[1. 1. 1. 1. 1.]\n"
     ]
    }
   ],
   "source": [
    "# 将torch的Tensor转换为numpy数组\n",
    "a = torch.ones(5)\n",
    "print(a)\n",
    "b = a.numpy()\n",
    "print(b)"
   ],
   "metadata": {
    "collapsed": false,
    "ExecuteTime": {
     "end_time": "2023-11-30T07:57:18.129733700Z",
     "start_time": "2023-11-30T07:57:18.083346600Z"
    }
   },
   "id": "c3b8aa753255ba3d"
  },
  {
   "cell_type": "code",
   "execution_count": 26,
   "outputs": [
    {
     "name": "stdout",
     "output_type": "stream",
     "text": [
      "tensor([2., 2., 2., 2., 2.])\n",
      "[2. 2. 2. 2. 2.]\n"
     ]
    }
   ],
   "source": [
    "# 看numpy数组是如何改变里面的值的\n",
    "a.add_(1)\n",
    "print(a)\n",
    "print(b)"
   ],
   "metadata": {
    "collapsed": false,
    "ExecuteTime": {
     "end_time": "2023-11-30T07:57:35.983180400Z",
     "start_time": "2023-11-30T07:57:35.918627500Z"
    }
   },
   "id": "3135597aa9697c14"
  },
  {
   "cell_type": "code",
   "execution_count": 27,
   "outputs": [
    {
     "name": "stdout",
     "output_type": "stream",
     "text": [
      "[2. 2. 2. 2. 2.]\n",
      "tensor([2., 2., 2., 2., 2.], dtype=torch.float64)\n"
     ]
    }
   ],
   "source": [
    "# 将numpy数组转换为torch张量\n",
    "import numpy as np\n",
    "a = np.ones(5)\n",
    "b = torch.from_numpy(a)\n",
    "np.add(a, 1, out=a)\n",
    "print(a)\n",
    "print(b)"
   ],
   "metadata": {
    "collapsed": false,
    "ExecuteTime": {
     "end_time": "2023-11-30T07:58:08.362523300Z",
     "start_time": "2023-11-30T07:58:08.299755400Z"
    }
   },
   "id": "7f3ae4f68fe6dea2"
  },
  {
   "cell_type": "markdown",
   "source": [
    "所有CPU上的张量(CharTensor除外)都支持与Numpy的相互转换。"
   ],
   "metadata": {
    "collapsed": false
   },
   "id": "e10fdcf9b2e4535d"
  },
  {
   "cell_type": "markdown",
   "source": [
    "## CUDA张量"
   ],
   "metadata": {
    "collapsed": false
   },
   "id": "7d3261a179f193a4"
  },
  {
   "cell_type": "code",
   "execution_count": 28,
   "outputs": [
    {
     "name": "stdout",
     "output_type": "stream",
     "text": [
      "tensor([1.2072], device='cuda:0')\n",
      "tensor([1.2072], dtype=torch.float64)\n"
     ]
    }
   ],
   "source": [
    "# 当GPU可用时,我们可以运行以下代码\n",
    "# 我们将使用`torch.device`来将tensor移入和移出GPU\n",
    "if torch.cuda.is_available():\n",
    "    device = torch.device(\"cuda\")          # a CUDA device object\n",
    "    y = torch.ones_like(x, device=device)  # 直接在GPU上创建tensor\n",
    "    x = x.to(device)                       # 或者使用`.to(\"cuda\")`方法\n",
    "    z = x + y\n",
    "    print(z)\n",
    "    print(z.to(\"cpu\", torch.double))       # `.to`也能在移动时改变dtype"
   ],
   "metadata": {
    "collapsed": false,
    "ExecuteTime": {
     "end_time": "2023-11-30T08:02:31.748333300Z",
     "start_time": "2023-11-30T08:02:27.613121200Z"
    }
   },
   "id": "2839df48433e5ac2"
  }
 ],
 "metadata": {
  "kernelspec": {
   "display_name": "Python 3",
   "language": "python",
   "name": "python3"
  },
  "language_info": {
   "codemirror_mode": {
    "name": "ipython",
    "version": 2
   },
   "file_extension": ".py",
   "mimetype": "text/x-python",
   "name": "python",
   "nbconvert_exporter": "python",
   "pygments_lexer": "ipython2",
   "version": "2.7.6"
  }
 },
 "nbformat": 4,
 "nbformat_minor": 5
}
