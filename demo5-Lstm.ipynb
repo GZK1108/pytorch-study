{
 "cells": [
  {
   "cell_type": "code",
   "execution_count": 1,
   "id": "initial_id",
   "metadata": {
    "collapsed": true,
    "ExecuteTime": {
     "end_time": "2023-12-01T07:07:44.340791300Z",
     "start_time": "2023-12-01T07:07:39.115874800Z"
    }
   },
   "outputs": [
    {
     "data": {
      "text/plain": "<torch._C.Generator at 0x2533bd67ab0>"
     },
     "execution_count": 1,
     "metadata": {},
     "output_type": "execute_result"
    }
   ],
   "source": [
    "# 作者: Robert Guthrie\n",
    "import torch\n",
    "import torch.nn as nn\n",
    "import torch.nn.functional as F\n",
    "import torch.optim as optim\n",
    "torch.manual_seed(1)"
   ]
  },
  {
   "cell_type": "code",
   "execution_count": 2,
   "outputs": [
    {
     "name": "stdout",
     "output_type": "stream",
     "text": [
      "[tensor([[-0.5525,  0.6355, -0.3968]]), tensor([[-0.6571, -1.6428,  0.9803]]), tensor([[-0.0421, -0.8206,  0.3133]]), tensor([[-1.1352,  0.3773, -0.2824]]), tensor([[-2.5667, -1.4303,  0.5009]])]\n"
     ]
    }
   ],
   "source": [
    "lstm = nn.LSTM(3, 3)  # 输入维度为3维，输出维度为3维\n",
    "inputs = [torch.randn(1, 3) for _ in range(5)]  # 生成一个长度为5的序列\n",
    "print(inputs)"
   ],
   "metadata": {
    "collapsed": false,
    "ExecuteTime": {
     "end_time": "2023-12-01T07:08:17.138754300Z",
     "start_time": "2023-12-01T07:08:17.056892400Z"
    }
   },
   "id": "c054d494115f2e34"
  },
  {
   "cell_type": "code",
   "execution_count": 3,
   "outputs": [
    {
     "name": "stdout",
     "output_type": "stream",
     "text": [
      "tensor([[[-0.0187,  0.1713, -0.2944]],\n",
      "\n",
      "        [[-0.3521,  0.1026, -0.2971]],\n",
      "\n",
      "        [[-0.3191,  0.0781, -0.1957]],\n",
      "\n",
      "        [[-0.1634,  0.0941, -0.1637]],\n",
      "\n",
      "        [[-0.3368,  0.0959, -0.0538]]], grad_fn=<MkldnnRnnLayerBackward0>)\n",
      "(tensor([[[-0.3368,  0.0959, -0.0538]]], grad_fn=<StackBackward0>), tensor([[[-0.9825,  0.4715, -0.0633]]], grad_fn=<StackBackward0>))\n"
     ]
    }
   ],
   "source": [
    "# 初始化隐藏状态.\n",
    "hidden = (torch.randn(1, 1, 3),\n",
    "          torch.randn(1, 1, 3))\n",
    "for i in inputs:\n",
    "    # 将序列中的元素逐个输入到LSTM.\n",
    "    # 经过每步操作,hidden 的值包含了隐藏状态的信息.\n",
    "    out, hidden = lstm(i.view(1, 1, -1), hidden)\n",
    "# 另外我们可以对一整个序列进行训练.\n",
    "# LSTM第一个返回的第一个值是所有时刻的隐藏状态\n",
    "# 第二个返回值是最后一个时刻的隐藏状态\n",
    "#(所以\"out\"的最后一个和\"hidden\"是一样的)\n",
    "# 之所以这样设计:\n",
    "# 通过\"out\"你能取得任何一个时刻的隐藏状态，而\"hidden\"的值是用来进行序列的反向传播运算, 具体方式就是将它作为参数传入后面的 LSTM 网络.\n",
    "# 增加额外的第二个维度.\n",
    "inputs = torch.cat(inputs).view(len(inputs), 1, -1)\n",
    "hidden = (torch.randn(1, 1, 3), torch.randn(1, 1, 3))  # 清空隐藏状态. \n",
    "out, hidden = lstm(inputs, hidden)\n",
    "print(out)\n",
    "print(hidden)"
   ],
   "metadata": {
    "collapsed": false,
    "ExecuteTime": {
     "end_time": "2023-12-01T07:11:56.585312100Z",
     "start_time": "2023-12-01T07:11:56.494076Z"
    }
   },
   "id": "ca926f3bbc763953"
  },
  {
   "cell_type": "markdown",
   "source": [
    "# 使用LSTM做词性标注"
   ],
   "metadata": {
    "collapsed": false
   },
   "id": "59eeb5eac3088d8d"
  },
  {
   "cell_type": "code",
   "execution_count": 4,
   "outputs": [
    {
     "name": "stdout",
     "output_type": "stream",
     "text": [
      "{'The': 0, 'dog': 1, 'ate': 2, 'the': 3, 'apple': 4, 'Everybody': 5, 'read': 6, 'that': 7, 'book': 8}\n"
     ]
    }
   ],
   "source": [
    "def prepare_sequence(seq, to_ix):\n",
    "    idxs = [to_ix[w] for w in seq]\n",
    "    return torch.tensor(idxs, dtype=torch.long)\n",
    "training_data = [\n",
    "    (\"The dog ate the apple\".split(), [\"DET\", \"NN\", \"V\", \"DET\", \"NN\"]),\n",
    "    (\"Everybody read that book\".split(), [\"NN\", \"V\", \"DET\", \"NN\"])\n",
    "]\n",
    "word_to_ix = {}\n",
    "for sent, tags in training_data:\n",
    "    for word in sent:\n",
    "        if word not in word_to_ix:\n",
    "            word_to_ix[word] = len(word_to_ix)\n",
    "print(word_to_ix)\n",
    "tag_to_ix = {\"DET\": 0, \"NN\": 1, \"V\": 2}\n",
    "# 实际中通常使用更大的维度如32维, 64维.\n",
    "# 这里我们使用小的维度, 为了方便查看训练过程中权重的变化.\n",
    "EMBEDDING_DIM = 6\n",
    "HIDDEN_DIM = 6"
   ],
   "metadata": {
    "collapsed": false,
    "ExecuteTime": {
     "end_time": "2023-12-01T07:14:21.250393700Z",
     "start_time": "2023-12-01T07:14:21.237301Z"
    }
   },
   "id": "8ac49ca384c30335"
  },
  {
   "cell_type": "code",
   "execution_count": 5,
   "outputs": [],
   "source": [
    "class LSTMTagger(nn.Module):\n",
    "    def __init__(self, embedding_dim, hidden_dim, vocab_size, tagset_size):\n",
    "        super(LSTMTagger, self).__init__()\n",
    "        self.hidden_dim = hidden_dim\n",
    "        self.word_embeddings = nn.Embedding(vocab_size, embedding_dim)\n",
    "        # LSTM以word_embeddings作为输入, 输出维度为 hidden_dim 的隐藏状态值\n",
    "        self.lstm = nn.LSTM(embedding_dim, hidden_dim)\n",
    "        # 线性层将隐藏状态空间映射到标注空间\n",
    "        self.hidden2tag = nn.Linear(hidden_dim, tagset_size)\n",
    "        self.hidden = self.init_hidden()\n",
    "    def init_hidden(self):\n",
    "        # 一开始并没有隐藏状态所以我们要先初始化一个\n",
    "        # 关于维度为什么这么设计请参考Pytoch相关文档\n",
    "        # 各个维度的含义是 (num_layers, minibatch_size, hidden_dim)\n",
    "        return (torch.zeros(1, 1, self.hidden_dim),\n",
    "                torch.zeros(1, 1, self.hidden_dim))\n",
    "    def forward(self, sentence):\n",
    "        embeds = self.word_embeddings(sentence)\n",
    "        lstm_out, self.hidden = self.lstm(\n",
    "            embeds.view(len(sentence), 1, -1), self.hidden)\n",
    "        tag_space = self.hidden2tag(lstm_out.view(len(sentence), -1))\n",
    "        tag_scores = F.log_softmax(tag_space, dim=1)\n",
    "        return tag_scores"
   ],
   "metadata": {
    "collapsed": false,
    "ExecuteTime": {
     "end_time": "2023-12-01T07:23:20.542546300Z",
     "start_time": "2023-12-01T07:23:20.528268900Z"
    }
   },
   "id": "f1362553120bcdc7"
  },
  {
   "cell_type": "code",
   "execution_count": 6,
   "outputs": [
    {
     "name": "stdout",
     "output_type": "stream",
     "text": [
      "tensor([[-1.1389, -1.2024, -0.9693],\n",
      "        [-1.1065, -1.2200, -0.9834],\n",
      "        [-1.1286, -1.2093, -0.9726],\n",
      "        [-1.1190, -1.1960, -0.9916],\n",
      "        [-1.0137, -1.2642, -1.0366]])\n",
      "tensor([[-0.0858, -2.9355, -3.5374],\n",
      "        [-5.2313, -0.0234, -4.0314],\n",
      "        [-3.9098, -4.1279, -0.0368],\n",
      "        [-0.0187, -4.7809, -4.5960],\n",
      "        [-5.8170, -0.0183, -4.1879]])\n"
     ]
    }
   ],
   "source": [
    "# 训练模型\n",
    "model = LSTMTagger(EMBEDDING_DIM, HIDDEN_DIM, len(word_to_ix), len(tag_to_ix))\n",
    "loss_function = nn.NLLLoss()\n",
    "optimizer = optim.SGD(model.parameters(), lr=0.1)\n",
    "# 查看训练前的分数\n",
    "# 注意: 输出的 i,j 元素的值表示单词 i 的 j 标签的得分\n",
    "# 这里我们不需要训练不需要求导，所以使用torch.no_grad()\n",
    "with torch.no_grad():\n",
    "    inputs = prepare_sequence(training_data[0][0], word_to_ix)\n",
    "    tag_scores = model(inputs)\n",
    "    print(tag_scores)\n",
    "for epoch in range(300):  # 实际情况下你不会训练300个周期, 此例中我们只是随便设了一个值\n",
    "    for sentence, tags in training_data:\n",
    "        # 第一步: 请记住Pytorch会累加梯度.\n",
    "        # 我们需要在训练每个实例前清空梯度\n",
    "        model.zero_grad()\n",
    "        # 此外还需要清空 LSTM 的隐状态,\n",
    "        # 将其从上个实例的历史中分离出来.\n",
    "        model.hidden = model.init_hidden()\n",
    "        # 准备网络输入, 将其变为词索引的 Tensor 类型数据\n",
    "        sentence_in = prepare_sequence(sentence, word_to_ix)\n",
    "        targets = prepare_sequence(tags, tag_to_ix)\n",
    "        # 第三步: 前向传播.\n",
    "        tag_scores = model(sentence_in)\n",
    "        # 第四步: 计算损失和梯度值, 通过调用 optimizer.step() 来更新梯度\n",
    "        loss = loss_function(tag_scores, targets)\n",
    "        loss.backward()\n",
    "        optimizer.step()\n",
    "# 查看训练后的得分\n",
    "with torch.no_grad():\n",
    "    inputs = prepare_sequence(training_data[0][0], word_to_ix)\n",
    "    tag_scores = model(inputs)\n",
    "    # 句子是 \"the dog ate the apple\", i,j 表示对于单词 i, 标签 j 的得分.\n",
    "    # 我们采用得分最高的标签作为预测的标签. 从下面的输出我们可以看到, 预测得\n",
    "    # 到的结果是0 1 2 0 1. 因为 索引是从0开始的, 因此第一个值0表示第一行的\n",
    "    # 最大值, 第二个值1表示第二行的最大值, 以此类推. 所以最后的结果是 DET\n",
    "    # NOUN VERB DET NOUN, 整个序列都是正确的!\n",
    "    print(tag_scores)"
   ],
   "metadata": {
    "collapsed": false,
    "ExecuteTime": {
     "end_time": "2023-12-01T07:28:03.359664600Z",
     "start_time": "2023-12-01T07:28:01.492780500Z"
    }
   },
   "id": "3326c409f6b8c6e4"
  }
 ],
 "metadata": {
  "kernelspec": {
   "display_name": "Python 3",
   "language": "python",
   "name": "python3"
  },
  "language_info": {
   "codemirror_mode": {
    "name": "ipython",
    "version": 2
   },
   "file_extension": ".py",
   "mimetype": "text/x-python",
   "name": "python",
   "nbconvert_exporter": "python",
   "pygments_lexer": "ipython2",
   "version": "2.7.6"
  }
 },
 "nbformat": 4,
 "nbformat_minor": 5
}
