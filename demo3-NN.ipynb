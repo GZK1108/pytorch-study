{
 "cells": [
  {
   "cell_type": "markdown",
   "source": [
    "我们已经介绍了autograd，nn包则依赖于autograd包来定义模型并对它们求导。一个nn.Module包含各个层和一个forward(input)方法，该方法返回output。"
   ],
   "metadata": {
    "collapsed": false
   },
   "id": "1f0630d5d793d734"
  },
  {
   "cell_type": "markdown",
   "source": [
    "一个神经网络的典型训练过程如下：\n",
    "定义包含一些可学习参数(或者叫权重）的神经网络\n",
    "在输入数据集上迭代\n",
    "通过网络处理输入\n",
    "计算损失(输出和正确答案的距离）\n",
    "将梯度反向传播给网络的参数\n",
    "更新网络的权重，一般使用一个简单的规则：weight = weight - learning_rate * gradient"
   ],
   "metadata": {
    "collapsed": false
   },
   "id": "6ab887ec548296cb"
  },
  {
   "cell_type": "markdown",
   "source": [
    "# 定义网络"
   ],
   "metadata": {
    "collapsed": false
   },
   "id": "cc475209082f9996"
  },
  {
   "cell_type": "code",
   "execution_count": 1,
   "outputs": [
    {
     "name": "stdout",
     "output_type": "stream",
     "text": [
      "Net(\n",
      "  (conv1): Conv2d(1, 6, kernel_size=(5, 5), stride=(1, 1))\n",
      "  (conv2): Conv2d(6, 16, kernel_size=(5, 5), stride=(1, 1))\n",
      "  (fc1): Linear(in_features=400, out_features=120, bias=True)\n",
      "  (fc2): Linear(in_features=120, out_features=84, bias=True)\n",
      "  (fc3): Linear(in_features=84, out_features=10, bias=True)\n",
      ")\n"
     ]
    }
   ],
   "source": [
    "import torch\n",
    "import torch.nn as nn\n",
    "import torch.nn.functional as F\n",
    "\n",
    "class Net(nn.Module):\n",
    "    def __init__(self):\n",
    "        super(Net, self).__init__()  # 继承父类的__init__，与nn.Module（父类）有关的初始化\n",
    "        # 输入图像channel：1；输出channel：6；5x5卷积核\n",
    "        self.conv1 = nn.Conv2d(1, 6, 5)\n",
    "        self.conv2 = nn.Conv2d(6, 16, 5)\n",
    "        # an affine operation: y = Wx + b\n",
    "        self.fc1 = nn.Linear(16 * 5 * 5, 120)\n",
    "        self.fc2 = nn.Linear(120, 84)\n",
    "        self.fc3 = nn.Linear(84, 10)\n",
    "    def forward(self, x):\n",
    "        # 2x2 Max pooling\n",
    "        x = F.max_pool2d(F.relu(self.conv1(x)), (2, 2))\n",
    "        # 如果是方阵,则可以只使用一个数字进行定义\n",
    "        x = F.max_pool2d(F.relu(self.conv2(x)), 2)\n",
    "        x = x.view(-1, self.num_flat_features(x))\n",
    "        x = F.relu(self.fc1(x))\n",
    "        x = F.relu(self.fc2(x))\n",
    "        x = self.fc3(x)\n",
    "        return x\n",
    "    \n",
    "    def num_flat_features(self, x):\n",
    "        size = x.size()[1:]  # 除去批处理维度的其他所有维度\n",
    "        num_features = 1\n",
    "        for s in size:\n",
    "            num_features *= s\n",
    "        return num_features\n",
    "    \n",
    "net = Net()\n",
    "print(net)"
   ],
   "metadata": {
    "collapsed": false,
    "ExecuteTime": {
     "end_time": "2023-11-30T09:12:35.518384700Z",
     "start_time": "2023-11-30T09:12:32.813616Z"
    }
   },
   "id": "2ce240db3acf8a14"
  },
  {
   "cell_type": "markdown",
   "source": [
    "我们只需要定义 forward 函数，backward函数会在使用autograd时自动定义，backward函数用来计算导数。可以在 forward 函数中使用任何针对张量的操作和计算。\n",
    "\n",
    "一个模型的可学习参数可以通过net.parameters()返回"
   ],
   "metadata": {
    "collapsed": false
   },
   "id": "bf30e3ec39f079a"
  },
  {
   "cell_type": "code",
   "execution_count": 2,
   "outputs": [
    {
     "name": "stdout",
     "output_type": "stream",
     "text": [
      "10\n",
      "torch.Size([6, 1, 5, 5])\n"
     ]
    }
   ],
   "source": [
    "params = list(net.parameters())\n",
    "print(len(params))\n",
    "print(params[0].size())  # conv1's .weight"
   ],
   "metadata": {
    "collapsed": false,
    "ExecuteTime": {
     "end_time": "2023-11-30T09:13:06.604354700Z",
     "start_time": "2023-11-30T09:13:06.577428100Z"
    }
   },
   "id": "f432920da29d1cab"
  },
  {
   "cell_type": "markdown",
   "source": [
    "试试一个随机的32x32的输入。注意:这个网络(LeNet）的期待输入是32x32的张量。如果使用MNIST数据集来训练这个网络，要把图片大小重新调整到32x32。"
   ],
   "metadata": {
    "collapsed": false
   },
   "id": "2e231f6bbcb4db0c"
  },
  {
   "cell_type": "code",
   "execution_count": 3,
   "outputs": [
    {
     "name": "stdout",
     "output_type": "stream",
     "text": [
      "tensor([[-0.0374, -0.0205, -0.1130, -0.0657,  0.0062, -0.0373,  0.0607,  0.1168,\n",
      "          0.0807, -0.1089]], grad_fn=<AddmmBackward0>)\n"
     ]
    }
   ],
   "source": [
    "input = torch.randn(1, 1, 32, 32)\n",
    "out = net(input)\n",
    "print(out)"
   ],
   "metadata": {
    "collapsed": false,
    "ExecuteTime": {
     "end_time": "2023-11-30T09:13:40.678332300Z",
     "start_time": "2023-11-30T09:13:40.605528700Z"
    }
   },
   "id": "a2401b8d8051340b"
  },
  {
   "cell_type": "markdown",
   "source": [
    "将所有参数的梯度缓存器置零，用随机的梯度来反向传播"
   ],
   "metadata": {
    "collapsed": false
   },
   "id": "34d5b1f7dfaf3733"
  },
  {
   "cell_type": "code",
   "execution_count": 4,
   "outputs": [],
   "source": [
    "net.zero_grad()\n",
    "out.backward(torch.randn(1, 10))"
   ],
   "metadata": {
    "collapsed": false,
    "ExecuteTime": {
     "end_time": "2023-11-30T09:18:54.178083800Z",
     "start_time": "2023-11-30T09:18:54.122234500Z"
    }
   },
   "id": "8f2acb04aa0a6664"
  },
  {
   "cell_type": "markdown",
   "source": [
    "注意：\n",
    "\n",
    "torch.nn只支持小批量处理(mini-batches）。整个torch.nn包只支持小批量样本的输入，不支持单个样本。\n",
    "\n",
    "比如，nn.Conv2d 接受一个4维的张量，即nSamples x nChannels x Height x Width\n",
    "\n",
    "如果是一个单独的样本，只需要使用input.unsqueeze(0)来添加一个“假的”批大小维度。"
   ],
   "metadata": {
    "collapsed": false
   },
   "id": "49593d6fc1211934"
  },
  {
   "cell_type": "markdown",
   "source": [
    "torch.Tensor - 一个多维数组，支持诸如backward()等的自动求导操作，同时也保存了张量的梯度。\n",
    "nn.Module - 神经网络模块。是一种方便封装参数的方式，具有将参数移动到GPU、导出、加载等功能。\n",
    "nn.Parameter - 张量的一种，当它作为一个属性分配给一个Module时，它会被自动注册为一个参数。\n",
    "autograd.Function - 实现了自动求导前向和反向传播的定义，每个Tensor至少创建一个Function节点，该节点连接到创建Tensor的函数并对其历史进行编码。"
   ],
   "metadata": {
    "collapsed": false
   },
   "id": "86a9933164b652a0"
  },
  {
   "cell_type": "markdown",
   "source": [
    "# 损失函数"
   ],
   "metadata": {
    "collapsed": false
   },
   "id": "803f5cecd5cba9d4"
  },
  {
   "cell_type": "code",
   "execution_count": 5,
   "outputs": [
    {
     "name": "stdout",
     "output_type": "stream",
     "text": [
      "tensor(0.6317, grad_fn=<MseLossBackward0>)\n"
     ]
    }
   ],
   "source": [
    "output = net(input)\n",
    "target = torch.randn(10)  # 本例子中使用模拟数据\n",
    "target = target.view(1, -1)  # 使目标值与数据值形状一致\n",
    "criterion = nn.MSELoss()\n",
    "loss = criterion(output, target)\n",
    "print(loss)"
   ],
   "metadata": {
    "collapsed": false,
    "ExecuteTime": {
     "end_time": "2023-11-30T09:20:26.052388800Z",
     "start_time": "2023-11-30T09:20:25.988561700Z"
    }
   },
   "id": "a69440a76218bd07"
  },
  {
   "cell_type": "code",
   "execution_count": 9,
   "outputs": [
    {
     "name": "stdout",
     "output_type": "stream",
     "text": [
      "<MseLossBackward0 object at 0x0000019FE7A1B820>\n",
      "<AddmmBackward0 object at 0x0000019FE7A1B5B0>\n",
      "<AccumulateGrad object at 0x0000019FDC817460>\n"
     ]
    }
   ],
   "source": [
    "print(loss.grad_fn)  # MSELoss，反向追踪过程\n",
    "print(loss.grad_fn.next_functions[0][0])  # Linear\n",
    "print(loss.grad_fn.next_functions[0][0].next_functions[0][0])  # ReLU"
   ],
   "metadata": {
    "collapsed": false,
    "ExecuteTime": {
     "end_time": "2023-11-30T09:22:46.566332900Z",
     "start_time": "2023-11-30T09:22:46.536414800Z"
    }
   },
   "id": "727a0fee1471c92b"
  },
  {
   "cell_type": "markdown",
   "source": [
    "# 反向传播"
   ],
   "metadata": {
    "collapsed": false
   },
   "id": "ab9679c5c8d054b5"
  },
  {
   "cell_type": "markdown",
   "source": [
    "我们只需要调用loss.backward()来反向传播权重。我们需要清零现有的梯度，否则梯度将会与已有的梯度累加。"
   ],
   "metadata": {
    "collapsed": false
   },
   "id": "899e50c74c43f233"
  },
  {
   "cell_type": "code",
   "execution_count": 10,
   "outputs": [
    {
     "name": "stdout",
     "output_type": "stream",
     "text": [
      "conv1.bias.grad before backward\n",
      "None\n",
      "conv1.bias.grad after backward\n",
      "tensor([-0.0042, -0.0017, -0.0029,  0.0119, -0.0005, -0.0049])\n"
     ]
    }
   ],
   "source": [
    "net.zero_grad()     # 清零所有参数(parameter）的梯度缓存\n",
    "print('conv1.bias.grad before backward')\n",
    "print(net.conv1.bias.grad)\n",
    "loss.backward()\n",
    "print('conv1.bias.grad after backward')\n",
    "print(net.conv1.bias.grad)"
   ],
   "metadata": {
    "collapsed": false,
    "ExecuteTime": {
     "end_time": "2023-11-30T09:23:43.654439900Z",
     "start_time": "2023-11-30T09:23:43.608564700Z"
    }
   },
   "id": "ba0f2e96d80052d0"
  },
  {
   "cell_type": "markdown",
   "source": [
    "最简单的更新规则是随机梯度下降法(SGD）:\n",
    "\n",
    "weight = weight - learning_rate * gradient"
   ],
   "metadata": {
    "collapsed": false
   },
   "id": "29bbd7d3d4edc2a6"
  },
  {
   "cell_type": "code",
   "execution_count": 11,
   "outputs": [],
   "source": [
    "learning_rate = 0.01\n",
    "for f in net.parameters():\n",
    "    f.data.sub_(f.grad.data * learning_rate)"
   ],
   "metadata": {
    "collapsed": false,
    "ExecuteTime": {
     "end_time": "2023-11-30T09:25:18.360514300Z",
     "start_time": "2023-11-30T09:25:18.336578200Z"
    }
   },
   "id": "25e6fe1ae322871c"
  },
  {
   "cell_type": "markdown",
   "source": [
    "然而，在使用神经网络时，可能希望使用各种不同的更新规则，如SGD、Nesterov-SGD、Adam、RMSProp等。为此，我们构建了一个较小的包torch.optim，它实现了所有的这些方法。使用它很简单："
   ],
   "metadata": {
    "collapsed": false
   },
   "id": "3211d7f34fb6252d"
  },
  {
   "cell_type": "code",
   "execution_count": 12,
   "outputs": [],
   "source": [
    "import torch.optim as optim\n",
    "# 创建优化器(optimizer）\n",
    "optimizer = optim.SGD(net.parameters(), lr=0.01)\n",
    "# 在训练的迭代中：\n",
    "optimizer.zero_grad()   # 清零梯度缓存\n",
    "output = net(input)\n",
    "loss = criterion(output, target)\n",
    "loss.backward()\n",
    "optimizer.step()    # 更新参数"
   ],
   "metadata": {
    "collapsed": false,
    "ExecuteTime": {
     "end_time": "2023-11-30T09:25:51.674909700Z",
     "start_time": "2023-11-30T09:25:51.157293100Z"
    }
   },
   "id": "d945d1cfe42e06d6"
  },
  {
   "cell_type": "markdown",
   "source": [
    "注意：\n",
    "\n",
    "观察梯度缓存区是如何使用optimizer.zero_grad()手动清零的。这是因为梯度是累加的，正如前面反向传播章节叙述的那样。"
   ],
   "metadata": {
    "collapsed": false
   },
   "id": "b40b3d5ad7b25cbe"
  }
 ],
 "metadata": {
  "kernelspec": {
   "display_name": "Python 3",
   "language": "python",
   "name": "python3"
  },
  "language_info": {
   "codemirror_mode": {
    "name": "ipython",
    "version": 2
   },
   "file_extension": ".py",
   "mimetype": "text/x-python",
   "name": "python",
   "nbconvert_exporter": "python",
   "pygments_lexer": "ipython2",
   "version": "2.7.6"
  }
 },
 "nbformat": 4,
 "nbformat_minor": 5
}
